{
 "cells": [
  {
   "cell_type": "markdown",
   "metadata": {},
   "source": [
    "## POST请求（百度翻译）"
   ]
  },
  {
   "cell_type": "code",
   "execution_count": null,
   "metadata": {},
   "outputs": [
    {
     "data": {
      "text/plain": [
       "{'errno': 0,\n",
       " 'data': [{'k': 'hello',\n",
       "   'v': 'int. 打招呼; 哈喽，喂; 你好，您好; 表示问候 n. “喂”的招呼声或问候声 vi. 喊“喂'},\n",
       "  {'k': 'hellos', 'v': 'n. 喂( hello的名词复数 )'},\n",
       "  {'k': 'hellow', 'v': '（通常的招呼语）嗨， （打电话用）喂！， （英）（表示惊讶）哎哟'},\n",
       "  {'k': 'hello girl', 'v': '女话务员; 女电话接线员'},\n",
       "  {'k': 'hello kitty', 'v': 'n. 卡通世界中; 有这样一只小猫; 没有嘴巴; 脸蛋圆圆的'}],\n",
       " 'logid': 1079050855}"
      ]
     },
     "execution_count": 4,
     "metadata": {},
     "output_type": "execute_result"
    }
   ],
   "source": [
    "from urllib.request import Request, urlopen\n",
    "from urllib.parse import urlencode\n",
    "import json\n",
    "\n",
    "url = 'https://fanyi.baidu.com/sug'\n",
    "headers = {\n",
    "    'user-agent': 'Mozilla/5.0 (Windows NT 10.0; Win64; x64) AppleWebKit/537.36 (KHTML, likeGecko) Chrome/74.0.3729.169 Safari/537.36'\n",
    "}\n",
    "# keyword = input('请输入要翻译的单词：')\n",
    "keyword = 'hello'\n",
    "data = {\n",
    "    \"kw\": keyword\n",
    "}\n",
    "data = urlencode(data).encode('utf-8')\n",
    "request = Request(url=url, data=data, headers=headers)  # 请求对象的定制\n",
    "response = urlopen(request)\n",
    "response = json.loads(response.read().decode('utf-8'))\n",
    "response"
   ]
  },
  {
   "cell_type": "markdown",
   "metadata": {},
   "source": [
    "## ajax的get请求(豆瓣电影)"
   ]
  },
  {
   "cell_type": "code",
   "execution_count": null,
   "metadata": {},
   "outputs": [],
   "source": [
    "# 爬取豆瓣电影前10页数据\n",
    "\n",
    "# 下载前10页数据\n",
    "# 下载的步骤：1.请求对象的定制 2.获取响应的数据 3.下载\n",
    "\n",
    "def create_request(page):\n",
    "    base_url = 'https://movie.douban.com/j/chart/top_list?type=20&interval_id=100%3A90&action=&'\n",
    "    headers = {\n",
    "        'user-agent': 'Mozilla/5.0 (Windows NT 10.0; Win64; x64) AppleWebKit/537.36 (KHTML, likeGecko) Chrome/74.0.3729.169 Safari/537.36'\n",
    "    }\n",
    "\n",
    "    data = {\n",
    "        'start': (page - 1) * 20,\n",
    "        'limit': 20\n",
    "    }\n",
    "\n",
    "    data = urlencode(data)\n",
    "\n",
    "    url = base_url + data\n",
    "\n",
    "    request = Request(url=url, headers=headers)\n",
    "    return request\n",
    "\n",
    "\n",
    "def get_content(request):\n",
    "    response = urlopen(request)\n",
    "    content = response.read().decode(\"utf-8\")\n",
    "    return content\n",
    "\n",
    "def down_load(page, content):\n",
    "    with open(\"../data/douban_\" + str(page) + \".json\", 'w', encoding='utf-8') as f:\n",
    "        f.write(content)\n",
    "\n",
    "\n",
    "if __name__ == '__main__':\n",
    "    start_page = int(input('请输入起始页：'))\n",
    "    end_page = int(input('请输入结束页：'))\n",
    "    for page in range(start_page, end_page + 1):\n",
    "        request = create_request(page)  # 请求对象的定制\n",
    "        content = get_content(request)  # 获取响应的数据\n",
    "        down_load(page, content)  # 下载"
   ]
  },
  {
   "cell_type": "markdown",
   "metadata": {},
   "source": [
    "## ajax的post请求(KFC)"
   ]
  },
  {
   "cell_type": "code",
   "execution_count": 2,
   "metadata": {},
   "outputs": [],
   "source": [
    "from urllib.request import urlopen, Request\n",
    "from urllib.parse import urlencode\n",
    "\n",
    "def create_request(page):\n",
    "    base_url = \"https://www.kfc.com.cn/kfccda/ashx/GetStoreList.ashx?op=cname\"\n",
    "\n",
    "    data = {\n",
    "        \"cname\": \"广州\",\n",
    "        \"pid\": \"\",\n",
    "        \"pageIndex\": page,\n",
    "        \"pageSize\": 10\n",
    "    }\n",
    "\n",
    "    data = urlencode(data).encode(\"utf-8\")\n",
    "\n",
    "    headers = {\n",
    "        'user-agent': 'Mozilla/5.0 (Windows NT 10.0; Win64; x64) AppleWebKit/537.36 (KHTML, likeGecko) Chrome/74.0.3729.169 Safari/537.36'\n",
    "    }\n",
    "\n",
    "    request = Request(base_url, data=data, headers=headers)\n",
    "    return request\n",
    "\n",
    "def get_content(request):\n",
    "    response = urlopen(request)\n",
    "    content = response.read().decode(\"utf-8\")\n",
    "    return content\n",
    "\n",
    "def down_load(page, content):\n",
    "    with open(\"../data/kfc_\" + str(page) + \".json\", \"w\", encoding=\"utf-8\") as f:\n",
    "        f.write(content)\n",
    "        \n",
    "\n",
    "if __name__ == '__main__':\n",
    "    start_page = int(input('请输入起始页：'))\n",
    "    end_page = int(input('请输入结束页：'))\n",
    "    for page in range(start_page, end_page + 1):\n",
    "        request = create_request(page)\n",
    "        content = get_content(request)\n",
    "        down_load(page, content)"
   ]
  },
  {
   "cell_type": "markdown",
   "metadata": {},
   "source": [
    "## 代理服务"
   ]
  },
  {
   "cell_type": "code",
   "execution_count": null,
   "metadata": {},
   "outputs": [
    {
     "name": "stdout",
     "output_type": "stream",
     "text": [
      "{'https': 'http://127.0.0.1:7890'}\n"
     ]
    }
   ],
   "source": [
    "from urllib.request import urlopen, Request, ProxyHandler, build_opener\n",
    "from urllib.parse import urlencode\n",
    "import random\n",
    "\n",
    "url = 'http://www.baidu.com/s?wd=ip'\n",
    "headers = {\n",
    "        'user-agent': 'Mozilla/5.0 (Windows NT 10.0; Win64; x64) AppleWebKit/537.36 (KHTML, likeGecko) Chrome/74.0.3729.169 Safari/537.36'\n",
    "    }\n",
    "request = Request(url, headers=headers)\n",
    "proxies_pool = [\n",
    "    {'https': 'http://202.101.213.116:23197'},\n",
    "    {'https': 'http://127.0.0.1:7890'}\n",
    "]\n",
    "\n",
    "proxies = random.choice(proxies_pool)\n",
    "print(proxies)\n",
    "\n",
    "# handler  build_opener  open\n",
    "handler = ProxyHandler(proxies)\n",
    "opener = build_opener(handler)\n",
    "response = opener.open(request)\n",
    "\n",
    "content = response.read().decode('utf-8')\n",
    "with open('ip.html', 'w', encoding='utf-8') as f:\n",
    "    f.write(content)"
   ]
  }
 ],
 "metadata": {
  "kernelspec": {
   "display_name": "bbase",
   "language": "python",
   "name": "python3"
  },
  "language_info": {
   "codemirror_mode": {
    "name": "ipython",
    "version": 3
   },
   "file_extension": ".py",
   "mimetype": "text/x-python",
   "name": "python",
   "nbconvert_exporter": "python",
   "pygments_lexer": "ipython3",
   "version": "3.9.12"
  }
 },
 "nbformat": 4,
 "nbformat_minor": 2
}
