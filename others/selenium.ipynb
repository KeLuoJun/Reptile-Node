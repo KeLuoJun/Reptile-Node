{
 "cells": [
  {
   "cell_type": "markdown",
   "metadata": {},
   "source": [
    "## Selenium"
   ]
  },
  {
   "cell_type": "markdown",
   "metadata": {},
   "source": [
    "### 基本使用"
   ]
  },
  {
   "cell_type": "code",
   "execution_count": null,
   "metadata": {},
   "outputs": [],
   "source": [
    "from selenium import webdriver\n",
    "from selenium.webdriver.chrome.service import Service\n",
    "\n",
    "# chromedriver.exe对应版本下载链接\n",
    "# https://googlechromelabs.github.io/chrome-for-testing/#stable\n",
    "path = '../asset/chromedriver.exe'\n",
    "service = Service(path)\n",
    "browser = webdriver.Chrome(service=service)\n",
    "\n",
    "url = 'https://www.baidu.com'\n",
    "\n",
    "browser.get(url)"
   ]
  },
  {
   "cell_type": "markdown",
   "metadata": {},
   "source": [
    "### 元素定位"
   ]
  },
  {
   "cell_type": "code",
   "execution_count": null,
   "metadata": {},
   "outputs": [
    {
     "data": {
      "text/plain": [
       "[<selenium.webdriver.remote.webelement.WebElement (session=\"ff395487753083c8021dac5b50edcb28\", element=\"f.D1FDC89D42BB2B7951B0054A372D2D34.d.FB71D662338D7DEBCC74D01C209D3238.e.35\")>]"
      ]
     },
     "execution_count": 24,
     "metadata": {},
     "output_type": "execute_result"
    }
   ],
   "source": [
    "from selenium import webdriver\n",
    "from selenium.webdriver.chrome.service import service\n",
    "from selenium.webdriver.common.by import By\n",
    "\n",
    "path = '../asset/chromedriver.exe'\n",
    "service = service(path)\n",
    "browser = webdriver.chrome(service=service)\n",
    "\n",
    "url = 'https://www.baidu.com'\n",
    "browser.get(url)\n",
    "\n",
    "# 根据id来查找对象\n",
    "button = browser.find_element(by=By.ID, value='su')\n",
    "button\n",
    "\n",
    "# 根据标签属性的属性值来获取对象\n",
    "button = browser.find_element(by=By.NAME, value='wd')\n",
    "button\n",
    "\n",
    "# 根据xpath语句来获取对象\n",
    "button = browser.find_element(by=By.XPATH, value=\"//input[@id='su']\")\n",
    "button\n",
    "\n",
    "# 根据标签的名字来获取对象\n",
    "button = browser.find_elements(by=By.TAG_NAME, value='input')\n",
    "button\n",
    "\n",
    "# 根据bs4语法来获取对象\n",
    "button = browser.find_elements(by=By.CSS_SELECTOR, value='#su')\n",
    "button\n",
    "\n",
    "# 获取网页上的链接\n",
    "links = browser.find_elements(by=By.LINK_TEXT, value='新闻')\n",
    "links"
   ]
  },
  {
   "cell_type": "markdown",
   "metadata": {},
   "source": [
    "### 访问元素信息"
   ]
  },
  {
   "cell_type": "code",
   "execution_count": 28,
   "metadata": {},
   "outputs": [
    {
     "data": {
      "text/plain": [
       "'新闻'"
      ]
     },
     "execution_count": 28,
     "metadata": {},
     "output_type": "execute_result"
    }
   ],
   "source": [
    "from selenium import  webdriver\n",
    "from selenium.webdriver.chrome.service import Service\n",
    "from selenium.webdriver.common.by import By\n",
    "\n",
    "path = '../asset/chromedriver.exe'\n",
    "service = Service(path)\n",
    "browser = webdriver.Chrome(service=service)\n",
    "\n",
    "url = 'https://www.baidu.com'\n",
    "browser.get(url)\n",
    "\n",
    "input_button = browser.find_element(by=By.ID, value='su')\n",
    "\n",
    "# 获取标签的属性\n",
    "input_button.get_attribute('class')\n",
    "# 获取标签的名字\n",
    "input_button.tag_name\n",
    "# 获取元素文本\n",
    "a = browser.find_element(by=By.LINK_TEXT, value='新闻')\n",
    "a.text"
   ]
  },
  {
   "cell_type": "markdown",
   "metadata": {},
   "source": [
    "### 交互"
   ]
  },
  {
   "cell_type": "code",
   "execution_count": 31,
   "metadata": {},
   "outputs": [],
   "source": [
    "from selenium import webdriver\n",
    "from selenium.webdriver.chrome.service import Service\n",
    "from selenium.webdriver.common.by import By\n",
    "from time import sleep\n",
    "\n",
    "path = '../asset/chromedriver.exe'\n",
    "service = Service(path)\n",
    "browser = webdriver.Chrome(service=service)\n",
    "\n",
    "url = 'https://www.baidu.com'\n",
    "browser.get(url)\n",
    "\n",
    "input_frame = browser.find_element(by=By.ID, value='kw')  # 获取搜索框\n",
    "input_frame.send_keys('广州')  # 向搜索框输入内容\n",
    "sleep(2)\n",
    "\n",
    "button = browser.find_element(by=By.ID, value='su')  # 获取百度一下按钮\n",
    "button.click()  # 点击百度一下按钮\n",
    "sleep(2)\n",
    "\n",
    "js_bottom = 'document.documentElement.scrollTop=100000'  # 滑到底部\n",
    "browser.execute_script(js_bottom)\n",
    "sleep(2)\n",
    "\n",
    "next = browser.find_element(by=By.XPATH, value=\"//a[@class='n']\")  # 获取下一页按钮\n",
    "next.click()  # 点击下一页按钮\n",
    "sleep(2)\n",
    "\n",
    "browser.back()  # 返回上一页\n",
    "sleep(2)\n",
    "\n",
    "browser.forward()  # 返回下一页\n",
    "sleep(2)\n",
    "\n",
    "browser.quit()"
   ]
  },
  {
   "cell_type": "markdown",
   "metadata": {},
   "source": [
    "## Chrome handless"
   ]
  },
  {
   "cell_type": "code",
   "execution_count": null,
   "metadata": {},
   "outputs": [
    {
     "data": {
      "text/plain": [
       "True"
      ]
     },
     "execution_count": 2,
     "metadata": {},
     "output_type": "execute_result"
    }
   ],
   "source": [
    "# 无界面浏览器\n",
    "from selenium import webdriver\n",
    "from selenium.webdriver.chrome.options import Options\n",
    "def share_browser():\n",
    "    #初始化\n",
    "    chrome_options = Options()\n",
    "    chrome_options.add_argument('‐‐headless')\n",
    "    chrome_options.add_argument('‐‐disable‐gpu')\n",
    "    # 本地谷歌浏览器的路径\n",
    "    path = r\"C:\\Program Files\\Google\\Chrome\\Application\\chrome.exe\"\n",
    "    chrome_options.binary_location = path\n",
    "    browser = webdriver.Chrome(options=chrome_options)\n",
    "    return browser\n",
    "\n",
    "browser = share_browser()\n",
    "browser.get('http://www.baidu.com/')\n",
    "browser.save_screenshot('handless1.png')"
   ]
  },
  {
   "cell_type": "code",
   "execution_count": null,
   "metadata": {},
   "outputs": [],
   "source": []
  }
 ],
 "metadata": {
  "kernelspec": {
   "display_name": "bbase",
   "language": "python",
   "name": "python3"
  },
  "language_info": {
   "codemirror_mode": {
    "name": "ipython",
    "version": 3
   },
   "file_extension": ".py",
   "mimetype": "text/x-python",
   "name": "python",
   "nbconvert_exporter": "python",
   "pygments_lexer": "ipython3",
   "version": "3.9.12"
  }
 },
 "nbformat": 4,
 "nbformat_minor": 2
}
